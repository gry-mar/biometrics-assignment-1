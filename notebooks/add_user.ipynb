{
 "cells": [
  {
   "cell_type": "code",
   "execution_count": null,
   "metadata": {},
   "outputs": [],
   "source": [
    "import os\n",
    "from shutil import copyfile\n",
    "\n",
    "def add_new_user(name_surname, profile_images):\n",
    "    user_dir = os.path.join('dataset/profiles', name_surname)\n",
    "    if not os.path.exists(user_dir):\n",
    "        os.makedirs(user_dir)\n",
    "        os.makedirs(os.path.join(user_dir, 'profile'))\n",
    "        os.makedirs(os.path.join(user_dir, 'test_positive'))\n",
    "        os.makedirs(os.path.join(user_dir, 'test_negative'))\n",
    "        \n",
    "    for i, image in enumerate(profile_images):\n",
    "        copyfile(image, os.path.join(user_dir, 'profile', f'{name_surname}_{i}.jpg'))\n",
    "\n",
    "# Przykład:\n",
    "# add_new_user('Jan_Kowalski', ['/path/to/image1.jpg', '/path/to/image2.jpg'])\n"
   ]
  }
 ],
 "metadata": {
  "kernelspec": {
   "display_name": ".venv",
   "language": "python",
   "name": "python3"
  },
  "language_info": {
   "name": "python",
   "version": "3.8.10"
  }
 },
 "nbformat": 4,
 "nbformat_minor": 2
}
