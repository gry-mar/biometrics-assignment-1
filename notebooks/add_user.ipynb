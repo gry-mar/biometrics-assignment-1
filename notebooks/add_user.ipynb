{
 "cells": [
  {
   "cell_type": "code",
   "execution_count": 1,
   "metadata": {},
   "outputs": [
    {
     "name": "stderr",
     "output_type": "stream",
     "text": [
      "2024-04-08 00:34:07.402 Python[93135:9215032] WARNING: Secure coding is not enabled for restorable state! Enable secure coding by implementing NSApplicationDelegate.applicationSupportsSecureRestorableState: and returning YES.\n"
     ]
    },
    {
     "ename": "",
     "evalue": "",
     "output_type": "error",
     "traceback": [
      "\u001b[1;31mThe Kernel crashed while executing code in the the current cell or a previous cell. Please review the code in the cell(s) to identify a possible cause of the failure. Click <a href='https://aka.ms/vscodeJupyterKernelCrash'>here</a> for more info. View Jupyter <a href='command:jupyter.viewOutput'>log</a> for further details."
     ]
    }
   ],
   "source": [
    "import tkinter as tk\n",
    "from tkinter import filedialog, Label, Entry, messagebox\n",
    "import shutil\n",
    "import os\n",
    "\n",
    "class AddUser:\n",
    "    def __init__(self, master):\n",
    "        self.master = master\n",
    "        master.title(\"Add user\")\n",
    "        master.geometry(\"600x400\")\n",
    "\n",
    "        Label(master, text=\"Name:\").pack()\n",
    "        self.name_entry = Entry(master, width=50)\n",
    "        self.name_entry.pack()\n",
    "\n",
    "        Label(master, text=\"Surname:\").pack()\n",
    "        self.surname_entry = Entry(master, width=50)\n",
    "        self.surname_entry.pack()\n",
    "\n",
    "        self.drop_area = Label(master, text=\"Click here to select images\", width=60, height=10, bg=\"lightgrey\")\n",
    "        self.drop_area.pack(pady=20)\n",
    "        self.drop_area.bind(\"<Button-1>\", self.select_images)\n",
    "\n",
    "        self.save_button = tk.Button(master, text=\"Save Images\", command=self.save_images, state=\"disabled\")\n",
    "        self.save_button.pack(pady=20)\n",
    "\n",
    "        self.selected_image_paths = []\n",
    "\n",
    "    def select_images(self, event):\n",
    "        file_paths = filedialog.askopenfilenames(filetypes=[(\"Image files\", \"*.jpg;*.jpeg;*.png\")])\n",
    "        if file_paths:\n",
    "            self.selected_image_paths = file_paths\n",
    "            file_list = \", \".join([os.path.basename(path) for path in file_paths])\n",
    "            self.drop_area.config(text=f\"Selected: {file_list}\")\n",
    "            self.save_button[\"state\"] = \"normal\"\n",
    "\n",
    "    def save_images(self):\n",
    "        name = self.name_entry.get().strip()\n",
    "        surname = self.surname_entry.get().strip()\n",
    "        if not name or not surname:\n",
    "            messagebox.showerror(\"Error\", \"Please enter both name and surname.\")\n",
    "            return\n",
    "\n",
    "        new_location = \"../dataset/all_images\"\n",
    "        if not os.path.exists(new_location):\n",
    "            os.makedirs(new_location)\n",
    "\n",
    "        for i, path in enumerate(self.selected_image_paths):\n",
    "            new_name = f\"{name}_{surname}_profile_{i}{os.path.splitext(path)[-1]}\"\n",
    "            new_path = os.path.join(new_location, new_name)\n",
    "            shutil.copy(path, new_path)\n",
    "\n",
    "        messagebox.showinfo(\"Success\", \"Images saved successfully.\")\n",
    "        self.master.destroy()\n",
    "\n",
    "if __name__ == \"__main__\":\n",
    "    root = tk.Tk()\n",
    "    app = AddUser(root)\n",
    "    root.mainloop()\n"
   ]
  }
 ],
 "metadata": {
  "kernelspec": {
   "display_name": ".venv",
   "language": "python",
   "name": "python3"
  },
  "language_info": {
   "codemirror_mode": {
    "name": "ipython",
    "version": 3
   },
   "file_extension": ".py",
   "mimetype": "text/x-python",
   "name": "python",
   "nbconvert_exporter": "python",
   "pygments_lexer": "ipython3",
   "version": "3.10.11"
  }
 },
 "nbformat": 4,
 "nbformat_minor": 2
}
