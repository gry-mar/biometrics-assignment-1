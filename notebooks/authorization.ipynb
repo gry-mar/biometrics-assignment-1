{
 "cells": [
  {
   "cell_type": "code",
   "execution_count": null,
   "metadata": {},
   "outputs": [],
   "source": [
    "from deepface import DeepFace\n",
    "import re"
   ]
  },
  {
   "cell_type": "code",
   "execution_count": 1,
   "metadata": {},
   "outputs": [],
   "source": [
    "def authenticate_user(image_path):\n",
    "    result = DeepFace.find(image_path, db_path='../dataset/all_images')\n",
    "    return result\n",
    "\n",
    "def authenticate_user_real_time():\n",
    "    DeepFace.stream(db_path='../dataset/all_images')\n",
    "    "
   ]
  },
  {
   "cell_type": "code",
   "execution_count": 40,
   "metadata": {},
   "outputs": [
    {
     "name": "stdout",
     "output_type": "stream",
     "text": [
      "24-04-04 15:07:58 - Searching ../dataset/profiles/Aaron_Eckhart/test_positive/0.jpg in 448 length datastore\n",
      "24-04-04 15:07:59 - find function duration 0.9297382831573486 seconds\n"
     ]
    },
    {
     "data": {
      "text/plain": [
       "'Aaron Eckhart'"
      ]
     },
     "execution_count": 40,
     "metadata": {},
     "output_type": "execute_result"
    }
   ],
   "source": [
    "result = authenticate_user('../dataset/profiles/Aaron_Eckhart/test_positive/0.jpg')\n",
    "# print(result)\n",
    "' '.join((result[0]['identity'][0]).split('\\\\')[-1].split('_')[:-2])"
   ]
  },
  {
   "cell_type": "code",
   "execution_count": null,
   "metadata": {},
   "outputs": [],
   "source": [
    "authenticate_user_real_time()"
   ]
  }
 ],
 "metadata": {
  "kernelspec": {
   "display_name": ".venv",
   "language": "python",
   "name": "python3"
  },
  "language_info": {
   "codemirror_mode": {
    "name": "ipython",
    "version": 3
   },
   "file_extension": ".py",
   "mimetype": "text/x-python",
   "name": "python",
   "nbconvert_exporter": "python",
   "pygments_lexer": "ipython3",
   "version": "3.8.10"
  }
 },
 "nbformat": 4,
 "nbformat_minor": 2
}
