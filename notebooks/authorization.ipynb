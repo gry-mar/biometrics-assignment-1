{
 "cells": [
  {
   "cell_type": "code",
   "execution_count": 1,
   "metadata": {},
   "outputs": [],
   "source": [
    "from deepface import DeepFace\n",
    "import re"
   ]
  },
  {
   "cell_type": "code",
   "execution_count": 22,
   "metadata": {},
   "outputs": [],
   "source": [
    "def authenticate_user(image_path):\n",
    "    result = DeepFace.find(image_path, db_path='../dataset/all_images')\n",
    "    return result\n",
    "\n",
    "def authenticate_user_real_time():\n",
    "    DeepFace.stream(db_path='../dataset/all_images', enable_face_analysis=False)\n",
    "    "
   ]
  },
  {
   "cell_type": "code",
   "execution_count": 18,
   "metadata": {},
   "outputs": [
    {
     "name": "stdout",
     "output_type": "stream",
     "text": [
      "24-04-06 10:28:44 - Searching ../dataset/profiles/Alan_Rickman/test_positive/0.jpg in 448 length datastore\n",
      "24-04-06 10:28:45 - find function duration 0.8995325565338135 seconds\n",
      "\n",
      "-------------- Authentication --------------\n",
      "\n",
      "Authentication confirmed. Welcome Alan Rickman!\n"
     ]
    }
   ],
   "source": [
    "# result = authenticate_user('../dataset/unregistered/Adam_Sandler_1067.png')\n",
    "result = authenticate_user('../dataset/profiles/Alan_Rickman/test_positive/0.jpg')\n",
    "\n",
    "distance = result[0]['distance'][0]\n",
    "person = ' '.join((result[0]['identity'][0]).split('\\\\')[-1].split('_')[:-2])\n",
    "max_distance = 0.35\n",
    "\n",
    "print('\\n-------------- Authentication --------------\\n')\n",
    "\n",
    "if distance <= max_distance:\n",
    "    print(f'Authentication confirmed. Welcome {person}!')\n",
    "else:\n",
    "    print('Authentication DENIED')\n"
   ]
  },
  {
   "cell_type": "code",
   "execution_count": 20,
   "metadata": {},
   "outputs": [
    {
     "name": "stdout",
     "output_type": "stream",
     "text": [
      "0   -2.220446e-16\n",
      "1    2.371683e-01\n",
      "2    3.297385e-01\n",
      "3    3.945121e-01\n",
      "4    4.884484e-01\n",
      "Name: distance, dtype: float64\n"
     ]
    },
    {
     "data": {
      "text/plain": [
       "'Alan Rickman'"
      ]
     },
     "execution_count": 20,
     "metadata": {},
     "output_type": "execute_result"
    }
   ],
   "source": [
    "print(result[0]['distance'])\n",
    "' '.join((result[0]['identity'][0]).split('\\\\')[-1].split('_')[:-2])"
   ]
  },
  {
   "cell_type": "code",
   "execution_count": 23,
   "metadata": {},
   "outputs": [
    {
     "name": "stdout",
     "output_type": "stream",
     "text": [
      "24-04-06 10:33:16 - VGG-Face is built\n",
      "24-04-06 10:33:21 - Hello, ../dataset/all_images\\James_McAvoy_profile_2.jpg\n",
      "24-04-06 10:33:23 - 🔴 could not broadcast input array from shape (1667,2500,3) into shape (112,112,3)\n",
      "24-04-06 10:33:23 - freezed\n",
      "24-04-06 10:33:28 - freeze released\n",
      "24-04-06 10:33:29 - freezed\n",
      "24-04-06 10:33:34 - freeze released\n",
      "24-04-06 10:33:35 - freezed\n",
      "24-04-06 10:33:41 - freeze released\n",
      "24-04-06 10:33:42 - Hello, ../dataset/all_images\\Elijah_Wood_profile_1.jpg\n",
      "24-04-06 10:33:43 - freezed\n",
      "24-04-06 10:33:48 - freeze released\n",
      "24-04-06 10:33:49 - Hello, ../dataset/all_images\\Elijah_Wood_profile_1.jpg\n",
      "24-04-06 10:33:49 - freezed\n"
     ]
    },
    {
     "ename": "KeyboardInterrupt",
     "evalue": "",
     "output_type": "error",
     "traceback": [
      "\u001b[1;31m---------------------------------------------------------------------------\u001b[0m",
      "\u001b[1;31mKeyboardInterrupt\u001b[0m                         Traceback (most recent call last)",
      "Cell \u001b[1;32mIn[23], line 1\u001b[0m\n\u001b[1;32m----> 1\u001b[0m \u001b[43mauthenticate_user_real_time\u001b[49m\u001b[43m(\u001b[49m\u001b[43m)\u001b[49m\n",
      "Cell \u001b[1;32mIn[22], line 6\u001b[0m, in \u001b[0;36mauthenticate_user_real_time\u001b[1;34m()\u001b[0m\n\u001b[0;32m      5\u001b[0m \u001b[38;5;28;01mdef\u001b[39;00m \u001b[38;5;21mauthenticate_user_real_time\u001b[39m():\n\u001b[1;32m----> 6\u001b[0m     \u001b[43mDeepFace\u001b[49m\u001b[38;5;241;43m.\u001b[39;49m\u001b[43mstream\u001b[49m\u001b[43m(\u001b[49m\u001b[43mdb_path\u001b[49m\u001b[38;5;241;43m=\u001b[39;49m\u001b[38;5;124;43m'\u001b[39;49m\u001b[38;5;124;43m../dataset/all_images\u001b[39;49m\u001b[38;5;124;43m'\u001b[39;49m\u001b[43m,\u001b[49m\u001b[43m \u001b[49m\u001b[43menable_face_analysis\u001b[49m\u001b[38;5;241;43m=\u001b[39;49m\u001b[38;5;28;43;01mFalse\u001b[39;49;00m\u001b[43m)\u001b[49m\n",
      "File \u001b[1;32mc:\\Users\\daria\\VSCode\\biometria\\.venv\\lib\\site-packages\\deepface\\DeepFace.py:420\u001b[0m, in \u001b[0;36mstream\u001b[1;34m(db_path, model_name, detector_backend, distance_metric, enable_face_analysis, source, time_threshold, frame_threshold)\u001b[0m\n\u001b[0;32m    417\u001b[0m time_threshold \u001b[38;5;241m=\u001b[39m \u001b[38;5;28mmax\u001b[39m(time_threshold, \u001b[38;5;241m1\u001b[39m)\n\u001b[0;32m    418\u001b[0m frame_threshold \u001b[38;5;241m=\u001b[39m \u001b[38;5;28mmax\u001b[39m(frame_threshold, \u001b[38;5;241m1\u001b[39m)\n\u001b[1;32m--> 420\u001b[0m \u001b[43mstreaming\u001b[49m\u001b[38;5;241;43m.\u001b[39;49m\u001b[43manalysis\u001b[49m\u001b[43m(\u001b[49m\n\u001b[0;32m    421\u001b[0m \u001b[43m    \u001b[49m\u001b[43mdb_path\u001b[49m\u001b[38;5;241;43m=\u001b[39;49m\u001b[43mdb_path\u001b[49m\u001b[43m,\u001b[49m\n\u001b[0;32m    422\u001b[0m \u001b[43m    \u001b[49m\u001b[43mmodel_name\u001b[49m\u001b[38;5;241;43m=\u001b[39;49m\u001b[43mmodel_name\u001b[49m\u001b[43m,\u001b[49m\n\u001b[0;32m    423\u001b[0m \u001b[43m    \u001b[49m\u001b[43mdetector_backend\u001b[49m\u001b[38;5;241;43m=\u001b[39;49m\u001b[43mdetector_backend\u001b[49m\u001b[43m,\u001b[49m\n\u001b[0;32m    424\u001b[0m \u001b[43m    \u001b[49m\u001b[43mdistance_metric\u001b[49m\u001b[38;5;241;43m=\u001b[39;49m\u001b[43mdistance_metric\u001b[49m\u001b[43m,\u001b[49m\n\u001b[0;32m    425\u001b[0m \u001b[43m    \u001b[49m\u001b[43menable_face_analysis\u001b[49m\u001b[38;5;241;43m=\u001b[39;49m\u001b[43menable_face_analysis\u001b[49m\u001b[43m,\u001b[49m\n\u001b[0;32m    426\u001b[0m \u001b[43m    \u001b[49m\u001b[43msource\u001b[49m\u001b[38;5;241;43m=\u001b[39;49m\u001b[43msource\u001b[49m\u001b[43m,\u001b[49m\n\u001b[0;32m    427\u001b[0m \u001b[43m    \u001b[49m\u001b[43mtime_threshold\u001b[49m\u001b[38;5;241;43m=\u001b[39;49m\u001b[43mtime_threshold\u001b[49m\u001b[43m,\u001b[49m\n\u001b[0;32m    428\u001b[0m \u001b[43m    \u001b[49m\u001b[43mframe_threshold\u001b[49m\u001b[38;5;241;43m=\u001b[39;49m\u001b[43mframe_threshold\u001b[49m\u001b[43m,\u001b[49m\n\u001b[0;32m    429\u001b[0m \u001b[43m\u001b[49m\u001b[43m)\u001b[49m\n",
      "File \u001b[1;32mc:\\Users\\daria\\VSCode\\biometria\\.venv\\lib\\site-packages\\deepface\\modules\\streaming.py:82\u001b[0m, in \u001b[0;36manalysis\u001b[1;34m(db_path, model_name, detector_backend, distance_metric, enable_face_analysis, source, time_threshold, frame_threshold)\u001b[0m\n\u001b[0;32m     80\u001b[0m cap \u001b[38;5;241m=\u001b[39m cv2\u001b[38;5;241m.\u001b[39mVideoCapture(source)  \u001b[38;5;66;03m# webcam\u001b[39;00m\n\u001b[0;32m     81\u001b[0m \u001b[38;5;28;01mwhile\u001b[39;00m \u001b[38;5;28;01mTrue\u001b[39;00m:\n\u001b[1;32m---> 82\u001b[0m     has_frame, img \u001b[38;5;241m=\u001b[39m \u001b[43mcap\u001b[49m\u001b[38;5;241;43m.\u001b[39;49m\u001b[43mread\u001b[49m\u001b[43m(\u001b[49m\u001b[43m)\u001b[49m\n\u001b[0;32m     83\u001b[0m     \u001b[38;5;28;01mif\u001b[39;00m \u001b[38;5;129;01mnot\u001b[39;00m has_frame:\n\u001b[0;32m     84\u001b[0m         \u001b[38;5;28;01mbreak\u001b[39;00m\n",
      "\u001b[1;31mKeyboardInterrupt\u001b[0m: "
     ]
    }
   ],
   "source": [
    "authenticate_user_real_time()"
   ]
  }
 ],
 "metadata": {
  "kernelspec": {
   "display_name": ".venv",
   "language": "python",
   "name": "python3"
  },
  "language_info": {
   "codemirror_mode": {
    "name": "ipython",
    "version": 3
   },
   "file_extension": ".py",
   "mimetype": "text/x-python",
   "name": "python",
   "nbconvert_exporter": "python",
   "pygments_lexer": "ipython3",
   "version": "3.10.11"
  }
 },
 "nbformat": 4,
 "nbformat_minor": 2
}
