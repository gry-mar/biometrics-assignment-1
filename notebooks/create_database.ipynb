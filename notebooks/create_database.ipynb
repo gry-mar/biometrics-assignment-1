{
 "cells": [
  {
   "cell_type": "code",
   "execution_count": 5,
   "metadata": {},
   "outputs": [],
   "source": [
    "import os\n",
    "import shutil\n",
    "\n",
    "def move_images_to_common_folder(dataset_path, common_folder_name='all_images'):  # common_folder_name test if tesd database, dataset_images if database\n",
    "    profiles_path = dataset_path +'/profiles'\n",
    "    common_folder_path = os.path.join(dataset_path, common_folder_name)\n",
    "    \n",
    "    if not os.path.exists(common_folder_path):\n",
    "        os.makedirs(common_folder_path)\n",
    "    \n",
    "    for person in os.listdir(profiles_path):\n",
    "        # for sub_folder in ['test_positive','test_negative']:  # create test database\n",
    "        for sub_folder in ['profile']:  # create database\n",
    "            images_path = os.path.join(profiles_path, person, sub_folder)\n",
    "            if os.path.exists(images_path):\n",
    "                for image_name in os.listdir(images_path):\n",
    "                    unique_file_name = f\"{person}_{sub_folder}_{image_name}\"\n",
    "                    src_path = os.path.join(images_path, image_name)\n",
    "                    dst_path = os.path.join(common_folder_path, unique_file_name)\n",
    "                    shutil.copy(src_path, dst_path)\n",
    "\n",
    "\n",
    "dataset_path = '../data/dataset_v2'\n",
    "move_images_to_common_folder(dataset_path)\n"
   ]
  }
 ],
 "metadata": {
  "kernelspec": {
   "display_name": ".venv",
   "language": "python",
   "name": "python3"
  },
  "language_info": {
   "codemirror_mode": {
    "name": "ipython",
    "version": 3
   },
   "file_extension": ".py",
   "mimetype": "text/x-python",
   "name": "python",
   "nbconvert_exporter": "python",
   "pygments_lexer": "ipython3",
   "version": "3.10.11"
  }
 },
 "nbformat": 4,
 "nbformat_minor": 2
}
