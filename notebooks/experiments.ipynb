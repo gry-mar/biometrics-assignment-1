{
 "cells": [
  {
   "cell_type": "code",
   "execution_count": 1,
   "metadata": {},
   "outputs": [],
   "source": [
    "from deepface import DeepFace\n",
    "import re"
   ]
  },
  {
   "cell_type": "code",
   "execution_count": 26,
   "metadata": {},
   "outputs": [],
   "source": [
    "def authenticate_user(image_path):\n",
    "    result = DeepFace.find(image_path, db_path='../dataset/dataset_images', silent=True)\n",
    "    return result"
   ]
  },
  {
   "cell_type": "code",
   "execution_count": 37,
   "metadata": {},
   "outputs": [
    {
     "name": "stdout",
     "output_type": "stream",
     "text": [
      "10/624\n",
      "20/624\n",
      "30/624\n",
      "40/624\n",
      "50/624\n",
      "60/624\n",
      "70/624\n",
      "80/624\n",
      "90/624\n",
      "100/624\n",
      "110/624\n",
      "120/624\n",
      "130/624\n",
      "Error in file:  Christina_Applegate_test_positive_3.jpg\n",
      "140/624\n",
      "150/624\n",
      "160/624\n",
      "170/624\n",
      "180/624\n",
      "190/624\n",
      "200/624\n",
      "210/624\n",
      "Error in file:  Farrah_Fawcett_test_positive_0.jpg\n",
      "220/624\n",
      "230/624\n",
      "240/624\n",
      "250/624\n",
      "260/624\n",
      "270/624\n",
      "Error in file:  Hugh_Jackman_test_negative_1.jpg\n",
      "280/624\n",
      "290/624\n",
      "300/624\n",
      "310/624\n",
      "320/624\n",
      "330/624\n",
      "340/624\n",
      "350/624\n",
      "360/624\n",
      "370/624\n",
      "380/624\n",
      "390/624\n",
      "400/624\n",
      "410/624\n",
      "420/624\n",
      "430/624\n",
      "440/624\n",
      "450/624\n",
      "460/624\n",
      "470/624\n",
      "480/624\n",
      "Error in file:  Miranda_Cosgrove_test_negative_0.jpg\n",
      "490/624\n",
      "500/624\n",
      "510/624\n",
      "520/624\n",
      "530/624\n",
      "540/624\n",
      "550/624\n",
      "Error in file:  Rupert_Grint_test_positive_2.jpg\n",
      "560/624\n",
      "570/624\n",
      "580/624\n",
      "590/624\n",
      "600/624\n",
      "610/624\n",
      "620/624\n",
      "275 30 0 279\n"
     ]
    }
   ],
   "source": [
    "import os\n",
    "\n",
    "folder_path = '../dataset/test'  \n",
    "\n",
    "image_files = [f for f in os.listdir(folder_path) if os.path.isfile(os.path.join(folder_path, f))]\n",
    "\n",
    "\n",
    "tp=0\n",
    "fp=0\n",
    "tn=0\n",
    "fn=0\n",
    "i=0\n",
    "\n",
    "for image_file in image_files:\n",
    "    person = ' '.join(image_file.split('_')[:-3])\n",
    "    test_type = image_file.split('_')[3]\n",
    "    # print(test_type)\n",
    "    try:\n",
    "        result = authenticate_user(f'../dataset/test/{image_file}')\n",
    "        distance = result[0]['distance'][0]\n",
    "        predicted_person = ' '.join((result[0]['identity'][0]).split('\\\\')[-1].split('_')[:-2])\n",
    "        max_distance = 0.1\n",
    "    except:\n",
    "        print('Error in file: ', image_file)\n",
    "\n",
    "    i+=1\n",
    "    if i%10==0:\n",
    "        print(f'{i}/{len(image_files)}')\n",
    "\n",
    "    # print(person, predicted_person)\n",
    "    # print(distance)\n",
    "    if test_type=='negative':\n",
    "        if person==predicted_person:\n",
    "            fp+=1\n",
    "        else:\n",
    "            tn+=1\n",
    "    elif test_type=='positive':\n",
    "        if person==predicted_person:\n",
    "            tp+=1\n",
    "        else:\n",
    "            fp+=1\n",
    "    \n",
    "\n",
    "print(tp, fp, fn, tn)\n",
    "\n",
    "\n"
   ]
  },
  {
   "cell_type": "code",
   "execution_count": 39,
   "metadata": {},
   "outputs": [
    {
     "data": {
      "text/plain": [
       "0.0970873786407767"
      ]
     },
     "execution_count": 39,
     "metadata": {},
     "output_type": "execute_result"
    }
   ],
   "source": [
    "fpr = fp / (fp + tn)\n",
    "fpr"
   ]
  },
  {
   "cell_type": "code",
   "execution_count": 42,
   "metadata": {},
   "outputs": [
    {
     "name": "stdout",
     "output_type": "stream",
     "text": [
      "TP: 275 TN: 279 FP: 30 FN: 0\n",
      "FPR: 0.0970873786407767\n"
     ]
    }
   ],
   "source": [
    "print('TP:',tp, 'TN:',tn, 'FP:',fp, 'FN:',fn)\n",
    "print('FPR:', fpr)"
   ]
  }
 ],
 "metadata": {
  "kernelspec": {
   "display_name": ".venv",
   "language": "python",
   "name": "python3"
  },
  "language_info": {
   "codemirror_mode": {
    "name": "ipython",
    "version": 3
   },
   "file_extension": ".py",
   "mimetype": "text/x-python",
   "name": "python",
   "nbconvert_exporter": "python",
   "pygments_lexer": "ipython3",
   "version": "3.8.10"
  }
 },
 "nbformat": 4,
 "nbformat_minor": 2
}
